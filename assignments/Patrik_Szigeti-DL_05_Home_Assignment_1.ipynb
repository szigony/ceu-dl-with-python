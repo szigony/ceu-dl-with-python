{
 "cells": [
  {
   "cell_type": "markdown",
   "metadata": {},
   "source": [
    "<img src=\"./pics/DL.png\" width=110 align=\"left\" style=\"margin-right: 10px\">\n",
    "\n",
    "# Introduction to Deep Learning\n",
    "\n",
    "## 05. Home Assignment I.\n",
    "\n",
    "---"
   ]
  },
  {
   "cell_type": "markdown",
   "metadata": {},
   "source": [
    "## Silent MNIST\n",
    "\n",
    "<p><a href=\"https://commons.wikimedia.org/wiki/File:%D9%84%D8%BA%D8%A9_%D8%A7%D9%84%D8%A7%D8%B4%D8%A7%D8%B1%D8%A9_%D8%A7%D9%84%D8%A7%D9%85%D8%B1%D9%8A%D9%83%D9%8A%D8%A9.png#/media/File:لغة_الاشارة_الامريكية.png\"><img src=\"./pics/exercises/silent_mnist.png\" width=400></a><br>By <a href=\"//commons.wikimedia.org/w/index.php?title=User:Krzys_kurd&amp;action=edit&amp;redlink=1\" class=\"new\" title=\"User:Krzys kurd (page does not exist)\">Krzys kurd</a> - <span class=\"int-own-work\" lang=\"en\">Own work</span>, <a href=\"https://creativecommons.org/licenses/by-sa/3.0\" title=\"Creative Commons Attribution-Share Alike 3.0\">CC BY-SA 3.0</a>, <a href=\"https://commons.wikimedia.org/w/index.php?curid=24699115\">Link</a></p>\n",
    "\n",
    "### Description\n",
    "\n",
    "Create a silent number detector using the different pictures taken of the signers hands. Your task is to create a neural network to solve this problem, using dense layers. You are free to use any kind of preprocessing or any kind of transformation on the data, and you can use any discussed methods.  \n",
    "Your designed solution must be presented in a form of clean, structured and well commented code. Descriptions should include the designed network layouts and the reasoning behind the choices. The final results should be highlighted, saved ([tutorial](https://machinelearningmastery.com/save-load-keras-deep-learning-models/)) and easily reproduceable.  \n",
    "Creating parametrizable functions to dynamically generate networks is a plus.\n",
    "\n",
    "### About the data\n",
    "\n",
    "The pictures are already preprocessed and transformed into greyscale image matrices.  \n",
    "The target variable is the value of the associated sign in one-hot encoded form.  \n",
    "Both feature matrix and target vectors are available as numpy arrays and can be found in the `data/sign_language/` folder. You can read `.npy` numpy array files with the `np.load(\"path_to_file.npy\")` function."
   ]
  },
  {
   "cell_type": "markdown",
   "metadata": {},
   "source": [
    "### Table of Contents\n",
    "\n",
    "* [Import libraries](#import-libraries)\n",
    "  * [Set the seed](#set-seed)\n",
    "* [Load and explore the dataset](#load-and-explore)\n",
    "* [Network layout](#network-layout)\n",
    "  * [Train-test split](#train-test-split)\n",
    "  * [Create a baseline network](#create-baseline)\n",
    "  * [Create multiple possible networks](#multiple-networks)\n",
    "  * [Compare models](#compare-models)\n",
    "* [Save the best performing network](#save-network)\n",
    "\n",
    "### Import libraries <a class=\"anchor\" id=\"import-libraries\"></a>"
   ]
  },
  {
   "cell_type": "code",
   "execution_count": 22,
   "metadata": {},
   "outputs": [],
   "source": [
    "import numpy as np\n",
    "import matplotlib.pyplot as plt\n",
    "from sklearn.model_selection import train_test_split\n",
    "from keras.utils import to_categorical\n",
    "from keras.models import Sequential\n",
    "from keras.layers import Dense\n",
    "from keras.layers import Activation\n",
    "from keras.layers import Dropout\n",
    "from keras.optimizers import RMSprop\n",
    "from keras.optimizers import Adam\n",
    "from keras.utils.vis_utils import plot_model\n",
    "import os\n",
    "import random\n",
    "import tensorflow as tf\n",
    "import pandas as pd"
   ]
  },
  {
   "cell_type": "markdown",
   "metadata": {},
   "source": [
    "#### Set the seed <a class=\"anchor\" id=\"set-seed\"></a>"
   ]
  },
  {
   "cell_type": "code",
   "execution_count": 2,
   "metadata": {},
   "outputs": [],
   "source": [
    "seed_value = 42\n",
    "os.environ['PYTHONHASHSEED'] = str(seed_value)\n",
    "random.seed(seed_value)\n",
    "np.random.seed(seed_value)\n",
    "tf.random.set_seed(seed_value)"
   ]
  },
  {
   "cell_type": "markdown",
   "metadata": {},
   "source": [
    "### Load and explore the dataset <a class=\"anchor\" id=\"load-and-explore\"></a>"
   ]
  },
  {
   "cell_type": "code",
   "execution_count": 3,
   "metadata": {},
   "outputs": [],
   "source": [
    "X = np.load('data/sign_language/X.npy')\n",
    "y = np.load('data/sign_language/y.npy')"
   ]
  },
  {
   "cell_type": "code",
   "execution_count": 4,
   "metadata": {},
   "outputs": [
    {
     "name": "stdout",
     "output_type": "stream",
     "text": [
      "Shape of X: (2062, 64, 64) \n",
      "Number of observations: 2062\n"
     ]
    }
   ],
   "source": [
    "print('Shape of X:', X.shape, '\\nNumber of observations:', len(X))"
   ]
  },
  {
   "cell_type": "markdown",
   "metadata": {},
   "source": [
    "We have 2062 observations in our dataset. Let's start exploring these by looking at one of the X values and its shape:"
   ]
  },
  {
   "cell_type": "code",
   "execution_count": 5,
   "metadata": {},
   "outputs": [
    {
     "name": "stdout",
     "output_type": "stream",
     "text": [
      "Array of values for X[0]:\n",
      " [[0.47450978 0.46274507 0.45098037 ... 0.50196075 0.5137255  0.52549016]\n",
      " [0.46666664 0.45098037 0.43921566 ... 0.4980392  0.5098039  0.52156866]\n",
      " [0.45490193 0.43921566 0.42745095 ... 0.49411762 0.50196075 0.517647  ]\n",
      " ...\n",
      " [0.4470588  0.4352941  0.4235294  ... 0.49019605 0.4980392  0.5058824 ]\n",
      " [0.45490193 0.44313723 0.43137252 ... 0.4980392  0.5058824  0.5137255 ]\n",
      " [0.46274507 0.45098037 0.43921566 ... 0.50196075 0.5098039  0.52156866]] \n",
      "\n",
      "Shape of X[0]: (64, 64)\n"
     ]
    }
   ],
   "source": [
    "print('Array of values for X[0]:\\n', X[0], '\\n\\nShape of X[0]:', X[0].shape)"
   ]
  },
  {
   "cell_type": "markdown",
   "metadata": {},
   "source": [
    "So we have 64x64 pixel images, and each pixel's greyscale value is between 0 and 1. In order for Keras to be able to consume this data, I have to flatten the matrix for each image."
   ]
  },
  {
   "cell_type": "code",
   "execution_count": 6,
   "metadata": {},
   "outputs": [
    {
     "name": "stdout",
     "output_type": "stream",
     "text": [
      "Shape of X: (2062, 4096)\n"
     ]
    }
   ],
   "source": [
    "input_dim = 64 * 64\n",
    "\n",
    "X = X.flatten().reshape(len(X), input_dim)\n",
    "print('Shape of X:', X.shape)"
   ]
  },
  {
   "cell_type": "markdown",
   "metadata": {},
   "source": [
    "Let's see what value the matrix for `X[0]` represents:"
   ]
  },
  {
   "cell_type": "code",
   "execution_count": 7,
   "metadata": {
    "scrolled": true
   },
   "outputs": [
    {
     "name": "stdout",
     "output_type": "stream",
     "text": [
      "y[0] in one-hot encoded form: [1. 0. 0. 0. 0. 0. 0. 0. 0. 0.] \n",
      "\n",
      "Shape of y[0]: (10,)\n"
     ]
    }
   ],
   "source": [
    "print('y[0] in one-hot encoded form:', y[0], '\\n\\nShape of y[0]:', y[0].shape)"
   ]
  },
  {
   "cell_type": "markdown",
   "metadata": {},
   "source": [
    "Based on the labels, this particular image should show a 0. \n",
    "\n",
    "Let's add a few other observations and see if our expectation meets what's actually shown in the images."
   ]
  },
  {
   "cell_type": "code",
   "execution_count": 8,
   "metadata": {},
   "outputs": [
    {
     "name": "stdout",
     "output_type": "stream",
     "text": [
      "y[0] in one-hot encoded form: [1. 0. 0. 0. 0. 0. 0. 0. 0. 0.]\n",
      "y[50] in one-hot encoded form: [1. 0. 0. 0. 0. 0. 0. 0. 0. 0.]\n",
      "y[500] in one-hot encoded form: [0. 0. 1. 0. 0. 0. 0. 0. 0. 0.]\n",
      "y[1000] in one-hot encoded form: [0. 0. 0. 0. 1. 0. 0. 0. 0. 0.]\n"
     ]
    }
   ],
   "source": [
    "y_items = [0, 50, 500, 1000]\n",
    "for i in y_items:\n",
    "    print('y[{}] in one-hot encoded form:'.format(i), y[i])"
   ]
  },
  {
   "cell_type": "markdown",
   "metadata": {},
   "source": [
    "Which means we're expecting to see images of hands signing two 0s, a 2 and a 4."
   ]
  },
  {
   "cell_type": "code",
   "execution_count": 9,
   "metadata": {},
   "outputs": [
    {
     "data": {
      "image/png": "[encoded data removed]",
      "text/plain": [
       "<Figure size 1080x1080 with 4 Axes>"
      ]
     },
     "metadata": {
      "needs_background": "light"
     },
     "output_type": "display_data"
    }
   ],
   "source": [
    "f, ax = plt.subplots(nrows=1, ncols=len(y_items), figsize=(15, 15))\n",
    "for i in y_items:\n",
    "    pos = y_items.index(i)  \n",
    "    ax[pos].imshow(X[i].reshape(64, 64), cmap=plt.get_cmap('gray'))\n",
    "    ax[pos].title.set_text('Image for X[{}]'.format(i))"
   ]
  },
  {
   "cell_type": "markdown",
   "metadata": {},
   "source": [
    "Our assumption was correct, we can see two zeros, a 2 and a 4. \n",
    "\n",
    "Now that we have a pretty good idea what our data looks like, we can get to building our network.\n",
    "\n",
    "### Network layout <a class=\"anchor\" id=\"network-layout\"></a>\n",
    "\n",
    "#### Create train-test (75-25%) split <a class=\"anchor\" id=\"train-test-split\"></a>"
   ]
  },
  {
   "cell_type": "code",
   "execution_count": 10,
   "metadata": {},
   "outputs": [],
   "source": [
    "X_train, X_test, y_train, y_test = train_test_split(X, y, test_size=0.25, random_state=seed_value)"
   ]
  },
  {
   "cell_type": "markdown",
   "metadata": {},
   "source": [
    "#### Create a baseline network <a class=\"anchor\" id=\"create-baseline\"></a>\n",
    "\n",
    "I worked with the MNIST dataset as part of an assignment for _Data Science 3: Machine Learning Tools_ earlier this year ([GitHub repo](https://github.com/szigony/ceu-ds3/blob/master/DS3_A2_Patrik-Szigeti.Rmd)), and I was able to achieve 88.7% prediction accuracy. Since it's generally a good practice to learn from ourselves, I'll use the specifications of my previously built model, and I'll try to see if I can improve upon that score. For my base model I'm using one dense layer with 128 units followed by a dropout layer with `rate=0.3`."
   ]
  },
  {
   "cell_type": "code",
   "execution_count": 11,
   "metadata": {},
   "outputs": [
    {
     "data": {
      "image/png": "[encoded data removed]",
      "text/plain": [
       "<IPython.core.display.Image object>"
      ]
     },
     "execution_count": 11,
     "metadata": {},
     "output_type": "execute_result"
    }
   ],
   "source": [
    "output_dim = 10\n",
    "\n",
    "model_bl = Sequential()\n",
    "model_bl.add(Dense(units=128, input_dim=input_dim, activation='relu'))\n",
    "model_bl.add(Dropout(rate=0.3))\n",
    "model_bl.add(Dense(units=output_dim, activation='softmax'))\n",
    "\n",
    "plot_model(model_bl, show_shapes=True, show_layer_names=True)"
   ]
  },
  {
   "cell_type": "code",
   "execution_count": 12,
   "metadata": {},
   "outputs": [
    {
     "name": "stdout",
     "output_type": "stream",
     "text": [
      "The accuracy of the baseline model on the test set is 49.22%\n"
     ]
    }
   ],
   "source": [
    "model_bl.compile(loss='categorical_crossentropy', optimizer=RMSprop(), metrics=['accuracy'])\n",
    "\n",
    "model_bl.fit(X_train, y_train, epochs=500, validation_split=0.2, batch_size=64, verbose=False)\n",
    "\n",
    "model_bl_loss, model_bl_accuracy = model_bl.evaluate(X_test, y_test, verbose=False)\n",
    "print(f'The accuracy of the baseline model on the test set is {model_bl_accuracy:.2%}')\n",
    "\n",
    "# Create a dictionary to store models and their performance for comparison\n",
    "model_accuracies = {}\n",
    "model_accuracies.update({'model_bl': {'model': model_bl, 'accuracy': model_bl_accuracy}})"
   ]
  },
  {
   "cell_type": "markdown",
   "metadata": {},
   "source": [
    "#### Create multiple possible networks <a class=\"anchor\" id=\"multiple-networks\"></a>\n",
    "\n",
    "In order to dynamically test multiple possible networks, I created several parameterizable functions:\n",
    "* `network_build`: Builds a dynamic dense network based on the specifications. It allows for specifying the number of dense layers and the number of units in them, the input and output dimensions, whether to include dropout layers after each dense layer or not, and the activation function. There is some custom error handling built in to ensure the correct parameters are given.\n",
    "* `compile_fit_evaluate_network`: Compiles the model, fits it on the train set and evaluates its accuracy against the test set. In order to ensure reproducibility, we can specify the number of repeats as well (idea based on Jason Brownlee's article, [How to Get Reproducible Results with Keras](https://machinelearningmastery.com/reproducible-results-neural-networks-keras/)), and the final metric will be the grand mean, which is the average calculated from the separate run's accuracies. You can also specify the number of epochs, the validation split, batch size, as well as the loss function and optimizer to be used."
   ]
  },
  {
   "cell_type": "code",
   "execution_count": 13,
   "metadata": {},
   "outputs": [],
   "source": [
    "def network_build(dense_layers=1, dense_units=[128], input_dim=input_dim, dropout_layers=True, dropout_ratio=[0.3], \n",
    "                  activation='relu', output_dim=output_dim):\n",
    "    '''This function builds a dynamic dense network based on the provided inputs.'''\n",
    "    \n",
    "    # Error handling\n",
    "    if dense_layers != len(dense_units):\n",
    "        raise ValueError('The length of the dense_units array must be equal to the number of dense layers.')\n",
    "    if dropout_layers:\n",
    "        if len(dropout_ratio) == 0:\n",
    "            raise ValueError('If you want to include dropout layers, you must provide an array of dropout ratios.')\n",
    "        if len(dropout_ratio) != 0 and len(dense_units) != len(dropout_ratio):\n",
    "            raise ValueError('The number of dropout layers must be the same as the number of dense layers.')\n",
    "        \n",
    "    # Model building\n",
    "    model = Sequential()\n",
    "    for i in range(0, dense_layers):\n",
    "        model.add(Dense(units=dense_units[i], input_dim=input_dim, activation=activation))\n",
    "        if dropout_layers:\n",
    "            model.add(Dropout(rate=dropout_ratio[i]))\n",
    "    model.add(Dense(units=output_dim, activation='softmax'))\n",
    "      \n",
    "    return model"
   ]
  },
  {
   "cell_type": "code",
   "execution_count": 37,
   "metadata": {},
   "outputs": [],
   "source": [
    "def compile_fit_evaluate_network(model, X_train, y_train, X_test, y_test, epochs=100, validation_split=0.2, batch_size=64, \n",
    "                                 loss_function='categorical_crossentropy', optimizer=RMSprop(), metrics=['accuracy'], \n",
    "                                 num_of_repeats=10):\n",
    "    '''This function compiles the model, fits it on the train set and evaluates its accuracy against the test set. It also \n",
    "    repeats the experiment a selected number of times and takes the average of their accuracy as the final metric, \n",
    "    also known as grand average.'''\n",
    "    \n",
    "    # Error handling\n",
    "    if type(loss_function) != str:\n",
    "        raise ValueError('You must only provide one loss function.')\n",
    "    \n",
    "    # Network building\n",
    "    accuracies = []\n",
    "    for i in range(0, num_of_repeats):\n",
    "        # Compile the model\n",
    "        model.compile(loss=loss_function, optimizer=optimizer, metrics=metrics)\n",
    "\n",
    "        # Fit the model\n",
    "        model.fit(X_train, y_train, epochs=epochs, validation_split=validation_split, batch_size=batch_size, verbose=False)\n",
    "\n",
    "        # Evaluate the model on the test set\n",
    "        model_loss, model_accuracy = model.evaluate(X_test, y_test, verbose=False)\n",
    "        accuracies.append(model_accuracy)\n",
    "    \n",
    "    grand_mean = np.mean(accuracies)\n",
    "    print(f'The overall accuracy of the model on the test set is {grand_mean:.2%}')\n",
    "        \n",
    "    return model, grand_mean"
   ]
  },
  {
   "cell_type": "markdown",
   "metadata": {},
   "source": [
    "`model_1`: Compared to my baseline model, I'm not using dropout layers to minimize the randomness of the outcome, and I'm using two dense layers (in addition to the final layer), starting with a size of 512, followed by a layer with 128 neurons."
   ]
  },
  {
   "cell_type": "code",
   "execution_count": 15,
   "metadata": {},
   "outputs": [
    {
     "name": "stdout",
     "output_type": "stream",
     "text": [
      "The overall accuracy of the model on the test set is 80.31%\n"
     ]
    }
   ],
   "source": [
    "m1_model, m1_accuracy = compile_fit_evaluate_network(\n",
    "    model=network_build(\n",
    "        dense_layers=2,\n",
    "        dense_units=[512, 128],\n",
    "        dropout_layers=False\n",
    "    ),\n",
    "    X_train=X_train,\n",
    "    y_train=y_train,\n",
    "    X_test=X_test,\n",
    "    y_test=y_test\n",
    ")\n",
    "\n",
    "model_accuracies.update({'model_1': {'model': m1_model, 'accuracy': m1_accuracy}})"
   ]
  },
  {
   "cell_type": "markdown",
   "metadata": {},
   "source": [
    "`model_2`: For my second model, I kept the specifications of `model_1`, but changed the activation function from `relu` to `tanh`. Several articles and Stackoverflow topics discussed its usage, so I wanted to see how well it would perform in this case."
   ]
  },
  {
   "cell_type": "code",
   "execution_count": 16,
   "metadata": {},
   "outputs": [
    {
     "name": "stdout",
     "output_type": "stream",
     "text": [
      "The overall accuracy of the model on the test set is 79.32%\n"
     ]
    }
   ],
   "source": [
    "m2_model, m2_accuracy = compile_fit_evaluate_network(\n",
    "    model=network_build(\n",
    "        dense_layers=2,\n",
    "        dense_units=[512, 128],\n",
    "        dropout_layers=False,\n",
    "        activation='tanh'\n",
    "    ),\n",
    "    X_train=X_train,\n",
    "    y_train=y_train,\n",
    "    X_test=X_test,\n",
    "    y_test=y_test\n",
    ")\n",
    "\n",
    "model_accuracies.update({'model_2': {'model': m2_model, 'accuracy': m2_accuracy}})"
   ]
  },
  {
   "cell_type": "markdown",
   "metadata": {},
   "source": [
    "`model_3`: To experiment with dropout layers, for my third model, I'll include two: one with 0.3 ratio and one with 0.1 ratio after the dense layers that were tried and tested for `model_2`."
   ]
  },
  {
   "cell_type": "code",
   "execution_count": 17,
   "metadata": {},
   "outputs": [
    {
     "name": "stdout",
     "output_type": "stream",
     "text": [
      "The overall accuracy of the model on the test set is 78.43%\n"
     ]
    }
   ],
   "source": [
    "m3_model, m3_accuracy = compile_fit_evaluate_network(\n",
    "    model=network_build(\n",
    "        dense_layers=2,\n",
    "        dense_units=[512, 128],\n",
    "        dropout_layers=True,\n",
    "        dropout_ratio=[0.3, 0.1]\n",
    "    ),\n",
    "    X_train=X_train,\n",
    "    y_train=y_train,\n",
    "    X_test=X_test,\n",
    "    y_test=y_test\n",
    ")\n",
    "\n",
    "model_accuracies.update({'model_3': {'model': m3_model, 'accuracy': m3_accuracy}})"
   ]
  },
  {
   "cell_type": "markdown",
   "metadata": {},
   "source": [
    "`model_4`: I'll revert back from dropout layers, as it seems to introduce unwanted randomness in the network. Instead I'll try to introduce a third dense layer with smaller number of neurons."
   ]
  },
  {
   "cell_type": "code",
   "execution_count": 39,
   "metadata": {},
   "outputs": [
    {
     "name": "stdout",
     "output_type": "stream",
     "text": [
      "The overall accuracy of the model on the test set is 81.55%\n"
     ]
    }
   ],
   "source": [
    "m4_model, m4_accuracy = compile_fit_evaluate_network(\n",
    "    model=network_build(\n",
    "        dense_layers=3,\n",
    "        dense_units=[512, 128, 32],\n",
    "        dropout_layers=False\n",
    "    ),\n",
    "    X_train=X_train,\n",
    "    y_train=y_train,\n",
    "    X_test=X_test,\n",
    "    y_test=y_test\n",
    ")\n",
    "\n",
    "model_accuracies.update({'model_4': {'model': m4_model, 'accuracy': m4_accuracy}})"
   ]
  },
  {
   "cell_type": "markdown",
   "metadata": {},
   "source": [
    "`model_5`: Sticking to the three dense layers (in addition to the final one), but instead of using the `RMSprop` optimizer, I'll try `Adam`. Based on my previous attempts at building networks, I found that `RMSprop` performs better, but there are several articles that refer to `Adam` as the better choice, and I wanted to see how it would perform for this problem."
   ]
  },
  {
   "cell_type": "code",
   "execution_count": 40,
   "metadata": {},
   "outputs": [
    {
     "name": "stdout",
     "output_type": "stream",
     "text": [
      "The overall accuracy of the model on the test set is 76.07%\n"
     ]
    }
   ],
   "source": [
    "m5_model, m5_accuracy = compile_fit_evaluate_network(\n",
    "    model=network_build(\n",
    "        dense_layers=3,\n",
    "        dense_units=[512, 128, 32],\n",
    "        dropout_layers=False\n",
    "    ),\n",
    "    X_train=X_train,\n",
    "    y_train=y_train,\n",
    "    X_test=X_test,\n",
    "    y_test=y_test,\n",
    "    optimizer=Adam()\n",
    ")\n",
    "\n",
    "model_accuracies.update({'model_5': {'model': m5_model, 'accuracy': m5_accuracy}})"
   ]
  },
  {
   "cell_type": "markdown",
   "metadata": {},
   "source": [
    "#### Compare models <a class=\"anchor\" id=\"compare-models\"></a>\n",
    "\n",
    "I'm comparing the grand means of my six models to determine which one performed best, and which one to save for later use."
   ]
  },
  {
   "cell_type": "code",
   "execution_count": 41,
   "metadata": {},
   "outputs": [
    {
     "data": {
      "text/html": [
       "<div>\n",
       "<style scoped>\n",
       "    .dataframe tbody tr th:only-of-type {\n",
       "        vertical-align: middle;\n",
       "    }\n",
       "\n",
       "    .dataframe tbody tr th {\n",
       "        vertical-align: top;\n",
       "    }\n",
       "\n",
       "    .dataframe thead th {\n",
       "        text-align: right;\n",
       "    }\n",
       "</style>\n",
       "<table border=\"1\" class=\"dataframe\">\n",
       "  <thead>\n",
       "    <tr style=\"text-align: right;\">\n",
       "      <th></th>\n",
       "      <th>model</th>\n",
       "      <th>accuracy</th>\n",
       "    </tr>\n",
       "  </thead>\n",
       "  <tbody>\n",
       "    <tr>\n",
       "      <th>model_bl</th>\n",
       "      <td>&lt;keras.engine.sequential.Sequential object at ...</td>\n",
       "      <td>0.492248</td>\n",
       "    </tr>\n",
       "    <tr>\n",
       "      <th>model_1</th>\n",
       "      <td>&lt;keras.engine.sequential.Sequential object at ...</td>\n",
       "      <td>0.803101</td>\n",
       "    </tr>\n",
       "    <tr>\n",
       "      <th>model_2</th>\n",
       "      <td>&lt;keras.engine.sequential.Sequential object at ...</td>\n",
       "      <td>0.793217</td>\n",
       "    </tr>\n",
       "    <tr>\n",
       "      <th>model_3</th>\n",
       "      <td>&lt;keras.engine.sequential.Sequential object at ...</td>\n",
       "      <td>0.784302</td>\n",
       "    </tr>\n",
       "    <tr>\n",
       "      <th>model_4</th>\n",
       "      <td>&lt;keras.engine.sequential.Sequential object at ...</td>\n",
       "      <td>0.815504</td>\n",
       "    </tr>\n",
       "    <tr>\n",
       "      <th>model_5</th>\n",
       "      <td>&lt;keras.engine.sequential.Sequential object at ...</td>\n",
       "      <td>0.760659</td>\n",
       "    </tr>\n",
       "  </tbody>\n",
       "</table>\n",
       "</div>"
      ],
      "text/plain": [
       "                                                      model  accuracy\n",
       "model_bl  <keras.engine.sequential.Sequential object at ...  0.492248\n",
       "model_1   <keras.engine.sequential.Sequential object at ...  0.803101\n",
       "model_2   <keras.engine.sequential.Sequential object at ...  0.793217\n",
       "model_3   <keras.engine.sequential.Sequential object at ...  0.784302\n",
       "model_4   <keras.engine.sequential.Sequential object at ...  0.815504\n",
       "model_5   <keras.engine.sequential.Sequential object at ...  0.760659"
      ]
     },
     "execution_count": 41,
     "metadata": {},
     "output_type": "execute_result"
    }
   ],
   "source": [
    "df_model_accuracies = pd.DataFrame(data=model_accuracies).T\n",
    "df_model_accuracies"
   ]
  },
  {
   "cell_type": "code",
   "execution_count": 42,
   "metadata": {},
   "outputs": [
    {
     "name": "stdout",
     "output_type": "stream",
     "text": [
      "The highest accuracy is 81.55%, which belongs to model_4.\n"
     ]
    }
   ],
   "source": [
    "highest_accuracy = max(df_model_accuracies['accuracy'])\n",
    "highest_accuracy_model = ''.join(df_model_accuracies[df_model_accuracies['accuracy'] == highest_accuracy].index.tolist())\n",
    "               \n",
    "print('The highest accuracy is ' + '{:.2%}'.format(highest_accuracy) + ', which belongs to ' + highest_accuracy_model + '.')"
   ]
  },
  {
   "cell_type": "markdown",
   "metadata": {},
   "source": [
    "### Save the best performing network <a class=\"anchor\" id=\"save-network\"></a>"
   ]
  },
  {
   "cell_type": "code",
   "execution_count": 43,
   "metadata": {},
   "outputs": [],
   "source": [
    "df_model_accuracies.loc[highest_accuracy_model]['model'].save('best_performing_network.h5')"
   ]
  }
 ],
 "metadata": {
  "kernelspec": {
   "display_name": "Python 3",
   "language": "python",
   "name": "python3"
  },
  "language_info": {
   "codemirror_mode": {
    "name": "ipython",
    "version": 3
   },
   "file_extension": ".py",
   "mimetype": "text/x-python",
   "name": "python",
   "nbconvert_exporter": "python",
   "pygments_lexer": "ipython3",
   "version": "3.7.7"
  }
 },
 "nbformat": 4,
 "nbformat_minor": 4
}
