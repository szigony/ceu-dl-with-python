{
 "cells": [
  {
   "cell_type": "markdown",
   "metadata": {},
   "source": [
    "<img src=\"./pics/DL.png\" width=110 align=\"left\" style=\"margin-right: 10px\">\n",
    "\n",
    "# Introduction to Deep Learning\n",
    "\n",
    "## 10. Home Assignment II.\n",
    "\n",
    "---"
   ]
  },
  {
   "cell_type": "markdown",
   "metadata": {},
   "source": [
    "## B) Fashion MNIST\n",
    "\n",
    "Build a convolutional network to classify the fashion mnist dataset. Build a function which will predict the class for an image. The function will get a path of an image as a parameter, it reads the image then returns the predicted class. You can assume that the path will always contain an image, which has *28 x 28 x 4* dimensions.\n",
    "\n",
    "The dataset is available in [keras](https://keras.io/datasets/#fashion-mnist-database-of-fashion-articles). An example image is available at `data/fashion/test.png`."
   ]
  },
  {
   "cell_type": "markdown",
   "metadata": {},
   "source": [
    "### Table of Contents\n",
    "\n",
    "* [Import libraries](#import-libraries)\n",
    "  * [Set the seed](#set-seed)\n",
    "* [Pre-processing](#pre-processing)\n",
    "  * [Load and transform the dataset](#load-and-transform)\n",
    "  * [Explore the dataset](#explore)\n",
    "* [Network layout](#network-layout)\n",
    "  * [Create a baseline network](#create-baseline)\n",
    "  * [Convolutional networks](#convolutional-networks)\n",
    "  * [Compare models](#compare-models)\n",
    "\n",
    "### Import libraries <a class=\"anchor\" id=\"import-libraries\"></a>"
   ]
  },
  {
   "cell_type": "code",
   "execution_count": 1,
   "metadata": {},
   "outputs": [
    {
     "name": "stderr",
     "output_type": "stream",
     "text": [
      "Using TensorFlow backend.\n"
     ]
    }
   ],
   "source": [
    "import numpy as np\n",
    "import tensorflow as tf\n",
    "import os\n",
    "import random\n",
    "import matplotlib.pyplot as plt\n",
    "from keras.datasets import fashion_mnist\n",
    "from keras.utils import to_categorical\n",
    "from keras.models import Sequential\n",
    "from keras.layers import Dense, Dropout, Flatten, Conv2D, MaxPooling2D\n",
    "from keras.optimizers import RMSprop, Adadelta\n",
    "from keras.utils.vis_utils import plot_model\n",
    "from network_functions import network_build, compile_fit_evaluate_network"
   ]
  },
  {
   "cell_type": "markdown",
   "metadata": {},
   "source": [
    "#### Set the seed <a class=\"anchor\" id=\"set-seed\"></a>"
   ]
  },
  {
   "cell_type": "code",
   "execution_count": 2,
   "metadata": {},
   "outputs": [],
   "source": [
    "seed_value = 42\n",
    "os.environ['PYTHONHASHSEED'] = str(seed_value)\n",
    "random.seed(seed_value)\n",
    "np.random.seed(seed_value)\n",
    "tf.random.set_seed(seed_value)"
   ]
  },
  {
   "cell_type": "markdown",
   "metadata": {},
   "source": [
    "### Pre-processing <a class=\"anchor\" id=\"pre-processing\"></a>\n",
    "\n",
    "#### Load and transform the dataset <a class=\"anchor\" id=\"load-and-transform\"></a>"
   ]
  },
  {
   "cell_type": "code",
   "execution_count": 3,
   "metadata": {},
   "outputs": [],
   "source": [
    "((X_train, y_train), (X_test, y_test)) = fashion_mnist.load_data()"
   ]
  },
  {
   "cell_type": "code",
   "execution_count": 4,
   "metadata": {},
   "outputs": [
    {
     "name": "stdout",
     "output_type": "stream",
     "text": [
      "Training examples: 60000\n",
      "Testing examples: 10000\n",
      "Size of the images: (28, 28)\n",
      "Output classes: 10\n"
     ]
    }
   ],
   "source": [
    "print('Training examples: {}\\nTesting examples: {}\\nSize of the images: {}\\nOutput classes: {}'.\n",
    "      format(len(X_train), len(X_test), X_train[0].shape, len(set(y_train))))"
   ]
  },
  {
   "cell_type": "markdown",
   "metadata": {},
   "source": [
    "There are 60,000 training examples, 10,000 testing examples in the dataset. Each image has a size of 28x28 pixels, and there are 10 output classes, just like in case of the Silent MNIST dataset. Let's look at one of the `X_train` values:"
   ]
  },
  {
   "cell_type": "code",
   "execution_count": 5,
   "metadata": {},
   "outputs": [
    {
     "name": "stdout",
     "output_type": "stream",
     "text": [
      "Array of values for X_train[0]:\n",
      "[[  0   0   0   0   0   0   0   0   0   0   0   0   0   0   0   0   0   0\n",
      "    0   0   0   0   0   0   0   0   0   0]\n",
      " [  0   0   0   0   0   0   0   0   0   0   0   0   0   0   0   0   0   0\n",
      "    0   0   0   0   0   0   0   0   0   0]\n",
      " [  0   0   0   0   0   0   0   0   0   0   0   0   0   0   0   0   0   0\n",
      "    0   0   0   0   0   0   0   0   0   0]\n",
      " [  0   0   0   0   0   0   0   0   0   0   0   0   1   0   0  13  73   0\n",
      "    0   1   4   0   0   0   0   1   1   0]\n",
      " [  0   0   0   0   0   0   0   0   0   0   0   0   3   0  36 136 127  62\n",
      "   54   0   0   0   1   3   4   0   0   3]\n",
      " [  0   0   0   0   0   0   0   0   0   0   0   0   6   0 102 204 176 134\n",
      "  144 123  23   0   0   0   0  12  10   0]\n",
      " [  0   0   0   0   0   0   0   0   0   0   0   0   0   0 155 236 207 178\n",
      "  107 156 161 109  64  23  77 130  72  15]\n",
      " [  0   0   0   0   0   0   0   0   0   0   0   1   0  69 207 223 218 216\n",
      "  216 163 127 121 122 146 141  88 172  66]\n",
      " [  0   0   0   0   0   0   0   0   0   1   1   1   0 200 232 232 233 229\n",
      "  223 223 215 213 164 127 123 196 229   0]\n",
      " [  0   0   0   0   0   0   0   0   0   0   0   0   0 183 225 216 223 228\n",
      "  235 227 224 222 224 221 223 245 173   0]\n",
      " [  0   0   0   0   0   0   0   0   0   0   0   0   0 193 228 218 213 198\n",
      "  180 212 210 211 213 223 220 243 202   0]\n",
      " [  0   0   0   0   0   0   0   0   0   1   3   0  12 219 220 212 218 192\n",
      "  169 227 208 218 224 212 226 197 209  52]\n",
      " [  0   0   0   0   0   0   0   0   0   0   6   0  99 244 222 220 218 203\n",
      "  198 221 215 213 222 220 245 119 167  56]\n",
      " [  0   0   0   0   0   0   0   0   0   4   0   0  55 236 228 230 228 240\n",
      "  232 213 218 223 234 217 217 209  92   0]\n",
      " [  0   0   1   4   6   7   2   0   0   0   0   0 237 226 217 223 222 219\n",
      "  222 221 216 223 229 215 218 255  77   0]\n",
      " [  0   3   0   0   0   0   0   0   0  62 145 204 228 207 213 221 218 208\n",
      "  211 218 224 223 219 215 224 244 159   0]\n",
      " [  0   0   0   0  18  44  82 107 189 228 220 222 217 226 200 205 211 230\n",
      "  224 234 176 188 250 248 233 238 215   0]\n",
      " [  0  57 187 208 224 221 224 208 204 214 208 209 200 159 245 193 206 223\n",
      "  255 255 221 234 221 211 220 232 246   0]\n",
      " [  3 202 228 224 221 211 211 214 205 205 205 220 240  80 150 255 229 221\n",
      "  188 154 191 210 204 209 222 228 225   0]\n",
      " [ 98 233 198 210 222 229 229 234 249 220 194 215 217 241  65  73 106 117\n",
      "  168 219 221 215 217 223 223 224 229  29]\n",
      " [ 75 204 212 204 193 205 211 225 216 185 197 206 198 213 240 195 227 245\n",
      "  239 223 218 212 209 222 220 221 230  67]\n",
      " [ 48 203 183 194 213 197 185 190 194 192 202 214 219 221 220 236 225 216\n",
      "  199 206 186 181 177 172 181 205 206 115]\n",
      " [  0 122 219 193 179 171 183 196 204 210 213 207 211 210 200 196 194 191\n",
      "  195 191 198 192 176 156 167 177 210  92]\n",
      " [  0   0  74 189 212 191 175 172 175 181 185 188 189 188 193 198 204 209\n",
      "  210 210 211 188 188 194 192 216 170   0]\n",
      " [  2   0   0   0  66 200 222 237 239 242 246 243 244 221 220 193 191 179\n",
      "  182 182 181 176 166 168  99  58   0   0]\n",
      " [  0   0   0   0   0   0   0  40  61  44  72  41  35   0   0   0   0   0\n",
      "    0   0   0   0   0   0   0   0   0   0]\n",
      " [  0   0   0   0   0   0   0   0   0   0   0   0   0   0   0   0   0   0\n",
      "    0   0   0   0   0   0   0   0   0   0]\n",
      " [  0   0   0   0   0   0   0   0   0   0   0   0   0   0   0   0   0   0\n",
      "    0   0   0   0   0   0   0   0   0   0]]\n",
      "Minimum value: 0\n",
      "Maximum value: 255\n"
     ]
    }
   ],
   "source": [
    "print('Array of values for X_train[0]:\\n{}\\nMinimum value: {}\\nMaximum value: {}'.\n",
    "      format(X_train[0], np.array(X_train[0]).min(), np.array(X_train[0]).max()))"
   ]
  },
  {
   "cell_type": "markdown",
   "metadata": {},
   "source": [
    "Based on the values (ranging from 0 to 255), it looks like we're dealing with colored images. In order to rescale these RGB values to grayscale values, I have to divide each of them by 255.\n",
    "\n",
    "I'm going to train a dense network as my baseline, and for that I have to do some additional formatting. For ease of interpretation, I'll also use these transformed sets for data exploration. _Note:_ All variables and datasets that were solely created for the dense layer are given an `_d` suffix."
   ]
  },
  {
   "cell_type": "code",
   "execution_count": 6,
   "metadata": {},
   "outputs": [
    {
     "name": "stdout",
     "output_type": "stream",
     "text": [
      "Shape of X_train_d:  (60000, 784)\n"
     ]
    }
   ],
   "source": [
    "X_train = X_train / 255\n",
    "X_test = X_test / 255\n",
    "\n",
    "input_dim_d = 28 * 28\n",
    "X_train_d = X_train.flatten().reshape(len(X_train), input_dim_d)\n",
    "X_test_d = X_test.flatten().reshape(len(X_test), input_dim_d)\n",
    "\n",
    "print('Shape of X_train_d: ', X_train_d.shape)"
   ]
  },
  {
   "cell_type": "markdown",
   "metadata": {},
   "source": [
    "Let's look at the target variables (`y_train`) to see if any transformation is needed:"
   ]
  },
  {
   "cell_type": "code",
   "execution_count": 7,
   "metadata": {},
   "outputs": [
    {
     "name": "stdout",
     "output_type": "stream",
     "text": [
      "Unique values in y_train: {0, 1, 2, 3, 4, 5, 6, 7, 8, 9}\n",
      "Example of a y value: y_train[0] = 9\n"
     ]
    }
   ],
   "source": [
    "print('Unique values in y_train: {}\\nExample of a y value: y_train[0] = {}'.format(set(y_train), y_train[0]))"
   ]
  },
  {
   "cell_type": "markdown",
   "metadata": {},
   "source": [
    "The target variables are between 0 and 9, I'll transform these to one-hot encoded values."
   ]
  },
  {
   "cell_type": "code",
   "execution_count": 25,
   "metadata": {},
   "outputs": [
    {
     "name": "stdout",
     "output_type": "stream",
     "text": [
      "Shape of y_train:  (60000, 10)\n"
     ]
    }
   ],
   "source": [
    "output_dim = len(set(y_train))\n",
    "\n",
    "y_train = to_categorical(y_train, output_dim)\n",
    "y_test = to_categorical(y_test, output_dim)\n",
    "\n",
    "print('Shape of y_train: ', y_train.shape)"
   ]
  },
  {
   "cell_type": "markdown",
   "metadata": {},
   "source": [
    "Let's see if the transformation was successful, we should see a `1.`, preceded by nine `0.`s."
   ]
  },
  {
   "cell_type": "code",
   "execution_count": 26,
   "metadata": {},
   "outputs": [
    {
     "name": "stdout",
     "output_type": "stream",
     "text": [
      "y_train[0] in one-hot encoded form: [0. 0. 0. 0. 0. 0. 0. 0. 0. 1.] \n",
      "\n",
      "Shape of y_train[0]: (10,)\n"
     ]
    }
   ],
   "source": [
    "print('y_train[0] in one-hot encoded form:', y_train[0], '\\n\\nShape of y_train[0]:', y_train[0].shape)"
   ]
  },
  {
   "cell_type": "markdown",
   "metadata": {},
   "source": [
    "#### Explore the dataset <a class=\"anchor\" id=\"explore\"></a>\n",
    "\n",
    "Let's take a look at a few observations to get a sense of the data."
   ]
  },
  {
   "cell_type": "code",
   "execution_count": 27,
   "metadata": {},
   "outputs": [
    {
     "name": "stdout",
     "output_type": "stream",
     "text": [
      "y_train[0] in one-hot encoded-form: [0. 0. 0. 0. 0. 0. 0. 0. 0. 1.]\n",
      "y_train[15000] in one-hot encoded-form: [0. 0. 1. 0. 0. 0. 0. 0. 0. 0.]\n",
      "y_train[30000] in one-hot encoded-form: [0. 0. 0. 1. 0. 0. 0. 0. 0. 0.]\n",
      "y_train[49000] in one-hot encoded-form: [0. 1. 0. 0. 0. 0. 0. 0. 0. 0.]\n"
     ]
    }
   ],
   "source": [
    "y_items = [0, 15000, 30000, 49000]\n",
    "for y in y_items:\n",
    "    print('y_train[{}] in one-hot encoded-form:'.format(y), y_train[y])"
   ]
  },
  {
   "cell_type": "markdown",
   "metadata": {},
   "source": [
    "So we're expecting to see four items of clothes that belong in completely different categories."
   ]
  },
  {
   "cell_type": "code",
   "execution_count": 28,
   "metadata": {},
   "outputs": [
    {
     "data": {
      "image/png": "[encoded data removed]",
      "text/plain": [
       "<Figure size 1080x1080 with 4 Axes>"
      ]
     },
     "metadata": {
      "needs_background": "light"
     },
     "output_type": "display_data"
    }
   ],
   "source": [
    "f, ax = plt.subplots(nrows=1, ncols=len(y_items), figsize=(15, 15))\n",
    "for y in y_items:\n",
    "    pos = y_items.index(y)  \n",
    "    ax[pos].imshow(X_train_d[y].reshape(28, 28), cmap=plt.get_cmap('gray'))\n",
    "    ax[pos].title.set_text('Image for X_train_d[{}]'.format(y))"
   ]
  },
  {
   "cell_type": "markdown",
   "metadata": {},
   "source": [
    "The first image is a shoe, the second one is a T-shirt, the third one is I can only assume a dress, while the fourth one looks like a pair of jeans. Which means our assumption was correct, these do belong in seperate categories, although the resolution is visibly worse then it was for the 64x64 pixel images of the Silent MNIST dataset.\n",
    "\n",
    "Now that I reshaped the data and have a solid idea about the dataset, I can get to building some networks.\n",
    "\n",
    "### Network layout <a class=\"anchor\" id=\"network-layout\"></a>\n",
    "\n",
    "#### Create a baseline network <a class=\"anchor\" id=\"create-baseline\"></a>\n",
    "\n",
    "As I mentioned, for my baseline network, I will take the dense network that performed best for my submission for the first home assignment ([GitHub repo](https://github.com/szigony/ceu-dl-with-python/blob/master/assignments/Patrik_Szigeti-DL_05_Home_Assignment_1.ipynb)), and see if I can improve on that with convolutional neural networks. \n",
    "\n",
    "I'm using two functions that I built for the first assignment, `network_build` to build the network, and `compile_fit_evaluate_network` that compiles, fits and evaluates the model. They're both imported from the `network_functions` helper file."
   ]
  },
  {
   "cell_type": "code",
   "execution_count": 14,
   "metadata": {},
   "outputs": [
    {
     "name": "stdout",
     "output_type": "stream",
     "text": [
      "The overall accuracy of the model on the test set is 88.23%\n"
     ]
    }
   ],
   "source": [
    "model_bl, model_bl_accuracy = compile_fit_evaluate_network(\n",
    "    model=network_build(\n",
    "        dense_layers=3, \n",
    "        dense_units=[512, 128, 32],\n",
    "        dropout_layers=False,\n",
    "        input_dim=input_dim_d,\n",
    "        output_dim=output_dim\n",
    "    ),\n",
    "    X_train=X_train_d,\n",
    "    y_train=y_train,\n",
    "    X_test=X_test_d,\n",
    "    y_test=y_test,\n",
    "    epochs=15,\n",
    "    num_of_repeats=3\n",
    ")\n",
    "\n",
    "model_accuracies = {}\n",
    "model_accuracies.update({'model_bl': {'model': model_bl, 'accuracy': model_bl_accuracy}})"
   ]
  },
  {
   "cell_type": "markdown",
   "metadata": {},
   "source": [
    "My baseline actually performs better for this dataset than it did for Silent MNIST, which is always good to see. Now I'll see if I can improve upon this with a convolutional network.\n",
    "\n",
    "#### Convolutional networks <a class=\"anchor\" id=\"convolutional-networks\"></a>\n",
    "\n",
    "I have previously trained convolutional networks for a similar dataset using R, I'll use the specifications of my best model from there for my baseline convolutional network."
   ]
  },
  {
   "cell_type": "code",
   "execution_count": 16,
   "metadata": {},
   "outputs": [
    {
     "name": "stdout",
     "output_type": "stream",
     "text": [
      "Shape of X_train: (60000, 28, 28, 1)\n",
      "Shape of X_test: (10000, 28, 28, 1)\n",
      "Shape of y_train: (60000,)\n"
     ]
    }
   ],
   "source": [
    "X_train = X_train.reshape(*X_train.shape, 1)\n",
    "X_test = X_test.reshape(*X_test.shape, 1)\n",
    "\n",
    "print('Shape of X_train: {}\\nShape of X_test: {}\\nShape of y_train: {}'.format(X_train.shape, X_test.shape, y_train.shape))"
   ]
  },
  {
   "cell_type": "code",
   "execution_count": 32,
   "metadata": {},
   "outputs": [],
   "source": [
    "input_shape = (28, 28, 1)\n",
    "loss_function = 'categorical_crossentropy'\n",
    "metrics = ['accuracy']\n",
    "num_of_repeats = 5"
   ]
  },
  {
   "cell_type": "markdown",
   "metadata": {},
   "source": [
    "This time I'm not creating a separate function for building the model, but for compiling, fitting and evaluating I will, given I'm not changing much in those steps for the four networks I'm creating. To account for the randomness introduced by the dropout layer, I'm running each process `num_of_repeats` times and taking the accuracies' average as my final accuracy figure."
   ]
  },
  {
   "cell_type": "code",
   "execution_count": 39,
   "metadata": {},
   "outputs": [],
   "source": [
    "def cfe(model, X_train, y_train, X_test, y_test, num_of_repeats=3, loss_function='categorical_crossentropy', \n",
    "        optimizer=RMSprop(), metrics=['accuracy'], epochs=15, batch_size=128, validation_split=0.2):\n",
    "    '''This function compiles, fits and evaluates the network repeated N number of times, \n",
    "    and takes the average of their accuracy as the final metric, also known as grand average.'''\n",
    "    \n",
    "    accuracies = []\n",
    "    for i in range(0, num_of_repeats):\n",
    "        model.compile(loss=loss_function, optimizer=optimizer, metrics=metrics)\n",
    "        model.fit(X_train, y_train, epochs=epochs, batch_size=batch_size, validation_split=validation_split, verbose=False)\n",
    "        model_loss, model_accuracy = model.evaluate(X_test, y_test, verbose=False)\n",
    "        accuracies.append(model_accuracy)\n",
    "\n",
    "    grand_mean = np.mean(accuracies)\n",
    "    print(f'The accuracy of the model on the test set is {m1_grand_mean:.2%}')\n",
    "    \n",
    "    return model, grand_mean"
   ]
  },
  {
   "cell_type": "markdown",
   "metadata": {},
   "source": [
    "`model_1`"
   ]
  },
  {
   "cell_type": "code",
   "execution_count": 36,
   "metadata": {},
   "outputs": [
    {
     "data": {
      "image/png": "[encoded data removed]",
      "text/plain": [
       "<IPython.core.display.Image object>"
      ]
     },
     "execution_count": 36,
     "metadata": {},
     "output_type": "execute_result"
    }
   ],
   "source": [
    "m1_model = Sequential()\n",
    "m1_model.add(Conv2D(filters=32, kernel_size=(3, 3), input_shape=input_shape, activation='relu'))\n",
    "m1_model.add(MaxPooling2D(pool_size=(2, 2)))\n",
    "m1_model.add(Dropout(rate=0.25))\n",
    "m1_model.add(Flatten())\n",
    "m1_model.add(Dense(units=32, activation='relu'))\n",
    "m1_model.add(Dense(units=output_dim, activation='softmax'))\n",
    "\n",
    "plot_model(m1_model, show_shapes=True, show_layer_names=True)"
   ]
  },
  {
   "cell_type": "code",
   "execution_count": 40,
   "metadata": {},
   "outputs": [
    {
     "name": "stdout",
     "output_type": "stream",
     "text": [
      "The accuracy of the model on the test set is 91.15%\n"
     ]
    }
   ],
   "source": [
    "m1_model, m1_accuracy = cfe(\n",
    "    model=m1_model,\n",
    "    X_train=X_train,\n",
    "    y_train=y_train,\n",
    "    X_test=X_test,\n",
    "    y_test=y_test\n",
    ")\n",
    "\n",
    "model_accuracies.update({'m1_model': {'model': m1_model, 'accuracy': m1_accuracy}})"
   ]
  },
  {
   "cell_type": "markdown",
   "metadata": {},
   "source": [
    "`model_2`: For my second model, I'm including an extra convolutional layer before `MaxPooling2D` and increasing the number of units in the penultimate dense layer to 128, which is the batch size I'm using when fitting the model. Everything else remains intact, as I'm already above 90% accuracy."
   ]
  },
  {
   "cell_type": "code",
   "execution_count": null,
   "metadata": {},
   "outputs": [],
   "source": [
    "m2_model = Sequential()\n",
    "m2_model.add(Conv2D(filters=32, kernel_size=(3, 3), input_shape=input_shape, activation='relu'))\n",
    "m2_model.add(Conv2D(filters=64, kernel_size=(3, 3), activation='relu'))\n",
    "m2_model.add(MaxPooling2D(pool_size=(2, 2)))\n",
    "m2_model.add(Dropout(rate=0.25))\n",
    "m2_model.add(Flatten())\n",
    "m2_model.add(Dense(units=128, activation='relu'))\n",
    "m2_model.add(Dense(units=output_dim, activation='softmax'))\n",
    "\n",
    "m2_model, m2_accuracy = cfe(\n",
    "    model=m2_model,\n",
    "    X_train=X_train,\n",
    "    y_train=y_train,\n",
    "    X_test=X_test,\n",
    "    y_test=y_test\n",
    ")\n",
    "\n",
    "model_accuracies.update({'m2_model': {'model': m2_model, 'accuracy': m2_accuracy}})"
   ]
  },
  {
   "cell_type": "markdown",
   "metadata": {},
   "source": [
    "`model_3`: For my third model, I'm trying to fine-tune my already pretty high accuracy by adding a dropout layer with `rate=0.5` between the two dense layers."
   ]
  },
  {
   "cell_type": "code",
   "execution_count": null,
   "metadata": {},
   "outputs": [],
   "source": [
    "m3_model = Sequential()\n",
    "m3_model.add(Conv2D(filters=32, kernel_size=(3, 3), input_shape=input_shape, activation='relu'))\n",
    "m3_model.add(Conv2D(filters=64, kernel_size=(3, 3), activation='relu'))\n",
    "m3_model.add(MaxPooling2D(pool_size=(2, 2)))\n",
    "m3_model.add(Dropout(rate=0.25))\n",
    "m3_model.add(Flatten())\n",
    "m3_model.add(Dense(units=128, activation='relu'))\n",
    "m3_model.add(Dropout(rate=0.5))\n",
    "m3_model.add(Dense(units=output_dim, activation='softmax'))\n",
    "\n",
    "m3_model, m3_accuracy = cfe(\n",
    "    model=m3_model,\n",
    "    X_train=X_train,\n",
    "    y_train=y_train,\n",
    "    X_test=X_test,\n",
    "    y_test=y_test\n",
    ")\n",
    "\n",
    "model_accuracies.update({'m3_model': {'model': m3_model, 'accuracy': m3_accuracy}})"
   ]
  },
  {
   "cell_type": "markdown",
   "metadata": {},
   "source": [
    "`model_4`: For my fourth model, I'm keeping everything as is, but changing the optimizer to `Adadelta`, which has parameter-specific learning rates that are adapted relative to how frequently a parameter gets updated during traning (idea based on Roan Gylberth's [article](https://medium.com/konvergen/continuing-on-adaptive-method-adadelta-and-rmsprop-1ff2c6029133))."
   ]
  },
  {
   "cell_type": "code",
   "execution_count": null,
   "metadata": {},
   "outputs": [],
   "source": [
    "m4_model, m4_accuracy = cfe(\n",
    "    model=m3_model,\n",
    "    X_train=X_train,\n",
    "    y_train=y_train,\n",
    "    X_test=X_test,\n",
    "    y_test=y_test,\n",
    "    optimizer=Adadelta()\n",
    ")\n",
    "\n",
    "model_accuracies.update({'m4_model': {'model': m4_model, 'accuracy': m4_accuracy}})"
   ]
  },
  {
   "cell_type": "markdown",
   "metadata": {},
   "source": [
    "#### Compare models <a class=\"anchor\" id=\"compare-models\"></a>\n",
    "\n",
    "I'm comparing the grand means of my five models to determine which one performed best, and which one to save for later use."
   ]
  },
  {
   "cell_type": "code",
   "execution_count": null,
   "metadata": {},
   "outputs": [],
   "source": [
    "df_model_accuracies = pd.DataFrame(data=model_accuracies).T\n",
    "df_model_accuracies"
   ]
  },
  {
   "cell_type": "code",
   "execution_count": null,
   "metadata": {},
   "outputs": [],
   "source": [
    "highest_accuracy = max(df_model_accuracies['accuracy'])\n",
    "highest_accuracy_model = ''.join(df_model_accuracies[df_model_accuracies['accuracy'] == highest_accuracy].index.tolist())\n",
    "               \n",
    "print('The highest accuracy is ' + '{:.2%}'.format(highest_accuracy) + ', which belongs to ' + highest_accuracy_model + '.')"
   ]
  },
  {
   "cell_type": "markdown",
   "metadata": {},
   "source": [
    "### Save the best performing network <a class=\"anchor\" id=\"save-network\"></a>"
   ]
  },
  {
   "cell_type": "code",
   "execution_count": null,
   "metadata": {},
   "outputs": [],
   "source": [
    "df_model_accuracies.loc[highest_accuracy_model]['model'].save('best_performing_convolutional_network.h5')"
   ]
  }
 ],
 "metadata": {
  "kernelspec": {
   "display_name": "Python 3",
   "language": "python",
   "name": "python3"
  },
  "language_info": {
   "codemirror_mode": {
    "name": "ipython",
    "version": 3
   },
   "file_extension": ".py",
   "mimetype": "text/x-python",
   "name": "python",
   "nbconvert_exporter": "python",
   "pygments_lexer": "ipython3",
   "version": "3.7.7"
  }
 },
 "nbformat": 4,
 "nbformat_minor": 4
}
